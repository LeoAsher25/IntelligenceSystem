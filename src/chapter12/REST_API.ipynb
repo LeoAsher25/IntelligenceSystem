{
 "cells": [
  {
   "cell_type": "code",
   "execution_count": 1,
   "metadata": {},
   "outputs": [
    {
     "name": "stdout",
     "output_type": "stream",
     "text": [
      " * Serving Flask app '__main__'\n",
      " * Debug mode: off\n"
     ]
    },
    {
     "name": "stderr",
     "output_type": "stream",
     "text": [
      "WARNING: This is a development server. Do not use it in a production deployment. Use a production WSGI server instead.\n",
      " * Running on all addresses (0.0.0.0)\n",
      " * Running on http://127.0.0.1:8000\n",
      " * Running on http://192.168.0.100:8000\n",
      "Press CTRL+C to quit\n",
      "/home/leoasher/.local/lib/python3.10/site-packages/sklearn/base.py:450: UserWarning: X does not have valid feature names, but KNeighborsClassifier was fitted with feature names\n",
      "  warnings.warn(\n",
      "[2022-11-21 22:32:33,190] ERROR in app: Exception on /diabetes/v1/predict [POST]\n",
      "Traceback (most recent call last):\n",
      "  File \"/home/leoasher/.local/lib/python3.10/site-packages/flask/app.py\", line 2525, in wsgi_app\n",
      "    response = self.full_dispatch_request()\n",
      "  File \"/home/leoasher/.local/lib/python3.10/site-packages/flask/app.py\", line 1822, in full_dispatch_request\n",
      "    rv = self.handle_user_exception(e)\n",
      "  File \"/home/leoasher/.local/lib/python3.10/site-packages/flask/app.py\", line 1820, in full_dispatch_request\n",
      "    rv = self.dispatch_request()\n",
      "  File \"/home/leoasher/.local/lib/python3.10/site-packages/flask/app.py\", line 1796, in dispatch_request\n",
      "    return self.ensure_sync(self.view_functions[rule.endpoint])(**view_args)\n",
      "  File \"/tmp/ipykernel_26536/97002573.py\", line 18, in predict\n",
      "    prediction = loaded_model.predict([features_list])\n",
      "  File \"/home/leoasher/.local/lib/python3.10/site-packages/sklearn/neighbors/_classification.py\", line 226, in predict\n",
      "    neigh_ind = self.kneighbors(X, return_distance=False)\n",
      "  File \"/home/leoasher/.local/lib/python3.10/site-packages/sklearn/neighbors/_base.py\", line 745, in kneighbors\n",
      "    X = self._validate_data(X, accept_sparse=\"csr\", reset=False, order=\"C\")\n",
      "  File \"/home/leoasher/.local/lib/python3.10/site-packages/sklearn/base.py\", line 577, in _validate_data\n",
      "    X = check_array(X, input_name=\"X\", **check_params)\n",
      "  File \"/home/leoasher/.local/lib/python3.10/site-packages/sklearn/utils/validation.py\", line 887, in check_array\n",
      "    raise ValueError(\n",
      "ValueError: dtype='numeric' is not compatible with arrays of bytes/strings.Convert your data to numeric values explicitly instead.\n",
      "192.168.0.100 - - [21/Nov/2022 22:32:33] \"POST /diabetes/v1/predict HTTP/1.1\" 500 -\n"
     ]
    }
   ],
   "source": [
    "import pickle\n",
    "from flask import Flask, request, json, jsonify\n",
    "import numpy as np\n",
    "app = Flask(__name__)\n",
    "#---the filename of the saved model---\n",
    "filename = 'diabetes.sav'\n",
    "#---load the saved model---\n",
    "loaded_model = pickle.load(open(filename, 'rb'))\n",
    "@app.route('/diabetes/v1/predict', methods=['POST'])\n",
    "def predict():\n",
    "    #---get the features to predict---\n",
    "    features = request.json\n",
    "    #---create the features list for prediction---\n",
    "    features_list = [features[\"Glucose\"],\n",
    "                     features[\"BMI\"],\n",
    "                     features[\"Age\"]]\n",
    "    #---get the prediction class---\n",
    "    prediction = loaded_model.predict([features_list])\n",
    "    #---get the prediction probabilities---\n",
    "    confidence = loaded_model.predict_proba([features_list])\n",
    "    #---formulate the response to return to client---\n",
    "    response = {}\n",
    "    response['prediction'] = int(prediction[0])\n",
    "    response['confidence'] = str(round(np.amax(confidence[0]) * 100 ,2))\n",
    "    return  jsonify(response)\n",
    "if __name__ == '__main__':\n",
    "    app.run(host='0.0.0.0', port=8000)"
   ]
  }
 ],
 "metadata": {
  "kernelspec": {
   "display_name": "Python 3.10.6 64-bit",
   "language": "python",
   "name": "python3"
  },
  "language_info": {
   "codemirror_mode": {
    "name": "ipython",
    "version": 3
   },
   "file_extension": ".py",
   "mimetype": "text/x-python",
   "name": "python",
   "nbconvert_exporter": "python",
   "pygments_lexer": "ipython3",
   "version": "3.10.6"
  },
  "orig_nbformat": 4,
  "vscode": {
   "interpreter": {
    "hash": "916dbcbb3f70747c44a77c7bcd40155683ae19c65e1c03b4aa3499c5328201f1"
   }
  }
 },
 "nbformat": 4,
 "nbformat_minor": 2
}
